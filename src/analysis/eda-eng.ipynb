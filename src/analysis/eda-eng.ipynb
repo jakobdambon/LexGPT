{
 "cells": [
  {
   "cell_type": "code",
   "execution_count": 1,
   "metadata": {},
   "outputs": [
    {
     "name": "stdout",
     "output_type": "stream",
     "text": [
      "['c:\\\\Program Files\\\\Python3.12.2\\\\python312.zip', 'c:\\\\Program Files\\\\Python3.12.2\\\\DLLs', 'c:\\\\Program Files\\\\Python3.12.2\\\\Lib', 'c:\\\\Program Files\\\\Python3.12.2', '', 'c:\\\\Program Files\\\\Python3.12.2\\\\Lib\\\\site-packages', 'c:\\\\Program Files\\\\Python3.12.2\\\\Lib\\\\site-packages\\\\win32', 'c:\\\\Program Files\\\\Python3.12.2\\\\Lib\\\\site-packages\\\\win32\\\\lib', 'c:\\\\Program Files\\\\Python3.12.2\\\\Lib\\\\site-packages\\\\Pythonwin', 'C:\\\\Users\\\\s0ntc5\\\\OneDrive - Swiss Reinsurance Company Ltd\\\\Documents\\\\GIT\\\\LexGPT\\\\src']\n"
     ]
    }
   ],
   "source": [
    "import sys\n",
    "from pathlib import Path\n",
    "\n",
    "# Add the `src` directory to sys.path\n",
    "sys.path.append(str(Path().resolve().parent))\n",
    "print(sys.path)"
   ]
  },
  {
   "cell_type": "markdown",
   "metadata": {},
   "source": [
    "# Analysis of Englisch Swiss Criminal Code\n",
    "\n",
    "## Read in Data"
   ]
  },
  {
   "cell_type": "code",
   "execution_count": 2,
   "metadata": {},
   "outputs": [
    {
     "name": "stdout",
     "output_type": "stream",
     "text": [
      "\n",
      "311.0\n",
      "\n",
      "\n",
      "\n",
      "\n",
      "English is not an official language of the Swiss Confederation. This translation is \n",
      "provided for information purposes only and has no legal force.\n",
      "\n",
      "\n",
      "\n",
      "Swiss Criminal Code \n",
      "\n",
      "of 21 December 1937 (Status as of 1 July 2024)\n",
      "\n",
      "The Federal Assembly the Swiss Confederation,\n",
      "based on Article 123 paragraphs 1 and 3 of the Federal Constitution ,  \n",
      "and having considered a Federal Council Dispatch dated 23 July 1918 ,\n",
      "decrees:\n",
      "Book One:  General Provisions\n",
      "Part One: Felonies and Misdemeanours\n",
      "Tit\n",
      "length of dataset in characters:  429369\n"
     ]
    }
   ],
   "source": [
    "# read english version of swiss criminal code\n",
    "with open('../../data/raw/scc-eng-raw.txt', 'r', encoding='utf-8') as f:\n",
    "    text = f.read()\n",
    "\n",
    "print(text[:500])\n",
    "print(\"length of dataset in characters: \", len(text))\n"
   ]
  },
  {
   "cell_type": "markdown",
   "metadata": {},
   "source": [
    "## Vocabulary"
   ]
  },
  {
   "cell_type": "code",
   "execution_count": 3,
   "metadata": {},
   "outputs": [
    {
     "name": "stdout",
     "output_type": "stream",
     "text": [
      "\t\n",
      " \"'(),-./0123456789:;ABCDEFGHIJKLMNOPQRSTUVWZ[]abcdefghijklmnopqrstuvwxyzÄÖÜäöü  ﻿\n",
      "85\n",
      "['\\t', '\\n', ' ', '\"', \"'\", '(', ')', ',', '-', '.', '/', '0', '1', '2', '3', '4', '5', '6', '7', '8', '9', ':', ';', 'A', 'B', 'C', 'D', 'E', 'F', 'G', 'H', 'I', 'J', 'K', 'L', 'M', 'N', 'O', 'P', 'Q', 'R', 'S', 'T', 'U', 'V', 'W', 'Z', '[', ']', 'a', 'b', 'c', 'd', 'e', 'f', 'g', 'h', 'i', 'j', 'k', 'l', 'm', 'n', 'o', 'p', 'q', 'r', 's', 't', 'u', 'v', 'w', 'x', 'y', 'z', 'Ä', 'Ö', 'Ü', 'ä', 'ö', 'ü', '\\u2002', '\\u2003', '\\uf02d', '\\ufeff']\n"
     ]
    }
   ],
   "source": [
    "# All the unique characters that occur in SCC\n",
    "chars = sorted(list(set(text)))\n",
    "vocab_size = len(chars)\n",
    "print(''.join(chars))\n",
    "print(vocab_size)\n",
    "print(chars)"
   ]
  },
  {
   "cell_type": "code",
   "execution_count": 5,
   "metadata": {},
   "outputs": [
    {
     "name": "stdout",
     "output_type": "stream",
     "text": [
      "{'\\ufeff': 1, '\\uf02d': 1, 'Q': 1, 'Ö': 1, '\\u2002': 2, '[': 2, ']': 2, 'Ä': 9, '\"': 12, '\\u2003': 15, '/': 17, 'Ü': 18, 'Z': 36, 'K': 41, \"'\": 54, 'ö': 60, 'ü': 65, 'W': 67, 'U': 106, 'G': 153, 'H': 156, 'ä': 158, 'L': 195, 'V': 230, 'M': 237, 'E': 239, ':': 239, 'q': 270, 'j': 280, 'z': 286, 'O': 313, 'R': 341, 'D': 421, 'P': 495, 'C': 565, 'J': 586, 'N': 613, 'k': 621, 'T': 624, 'F': 759, ';': 846, '(': 916, ')': 916, '-': 936, '7': 1157, '4': 1164, '8': 1197, '6': 1213, 'x': 1224, 'B': 1246, '5': 1297, 'S': 1354, 'I': 1426, '\\t': 1466, '3': 1777, '9': 1826, 'v': 2263, ',': 2491, 'w': 2550, '0': 3127, 'A': 3659, 'b': 4258, 'g': 4527, '1': 4679, '.': 4855, '2': 4868, 'y': 5175, 'p': 6942, 'm': 7082, 'u': 7675, '\\n': 8932, 'd': 9774, 'f': 10011, 'l': 11352, 'h': 11612, 'c': 12401, 's': 18088, 'r': 21767, 'i': 22279, 'a': 22411, 'n': 25312, 'o': 25942, 't': 27749, 'e': 39769, ' ': 69567}\n"
     ]
    }
   ],
   "source": [
    "# check frequency of each character\n",
    "from collections import Counter\n",
    "\n",
    "freq = Counter(text)\n",
    "print(dict(sorted(freq.items(), key = lambda item: item[1])))"
   ]
  },
  {
   "cell_type": "markdown",
   "metadata": {},
   "source": [
    "## Remove Special Characters"
   ]
  },
  {
   "cell_type": "code",
   "execution_count": 6,
   "metadata": {},
   "outputs": [
    {
     "name": "stdout",
     "output_type": "stream",
     "text": [
      "429369\n",
      "429367\n"
     ]
    }
   ],
   "source": [
    "from utils.proc_char import remove_unicode\n",
    "\n",
    "text_clean = remove_unicode(text)\n",
    "\n",
    "print(len(text))\n",
    "print(len(text_clean))"
   ]
  },
  {
   "cell_type": "markdown",
   "metadata": {},
   "source": [
    "## Check Vocabulary again"
   ]
  },
  {
   "cell_type": "code",
   "execution_count": 7,
   "metadata": {},
   "outputs": [
    {
     "name": "stdout",
     "output_type": "stream",
     "text": [
      "\t\n",
      " \"'(),-./0123456789:;ABCDEFGHIJKLMNOPQRSTUVWZ[]abcdefghijklmnopqrstuvwxyzÄÖÜäöü\n",
      "81\n",
      "['\\t', '\\n', ' ', '\"', \"'\", '(', ')', ',', '-', '.', '/', '0', '1', '2', '3', '4', '5', '6', '7', '8', '9', ':', ';', 'A', 'B', 'C', 'D', 'E', 'F', 'G', 'H', 'I', 'J', 'K', 'L', 'M', 'N', 'O', 'P', 'Q', 'R', 'S', 'T', 'U', 'V', 'W', 'Z', '[', ']', 'a', 'b', 'c', 'd', 'e', 'f', 'g', 'h', 'i', 'j', 'k', 'l', 'm', 'n', 'o', 'p', 'q', 'r', 's', 't', 'u', 'v', 'w', 'x', 'y', 'z', 'Ä', 'Ö', 'Ü', 'ä', 'ö', 'ü']\n",
      "{'Q': 1, 'Ö': 1, '[': 2, ']': 2, 'Ä': 9, '\"': 12, '/': 17, 'Ü': 18, 'Z': 36, 'K': 41, \"'\": 54, 'ö': 60, 'ü': 65, 'W': 67, 'U': 106, 'G': 153, 'H': 156, 'ä': 158, 'L': 195, 'V': 230, 'M': 237, 'E': 239, ':': 239, 'q': 270, 'j': 280, 'z': 286, 'O': 313, 'R': 341, 'D': 421, 'P': 495, 'C': 565, 'J': 586, 'N': 613, 'k': 621, 'T': 624, 'F': 759, ';': 846, '(': 916, ')': 916, '-': 936, '7': 1157, '4': 1164, '8': 1197, '6': 1213, 'x': 1224, 'B': 1246, '5': 1297, 'S': 1354, 'I': 1426, '\\t': 1466, '3': 1777, '9': 1826, 'v': 2263, ',': 2491, 'w': 2550, '0': 3127, 'A': 3659, 'b': 4258, 'g': 4527, '1': 4679, '.': 4855, '2': 4868, 'y': 5175, 'p': 6942, 'm': 7082, 'u': 7675, '\\n': 8932, 'd': 9774, 'f': 10011, 'l': 11352, 'h': 11612, 'c': 12401, 's': 18088, 'r': 21767, 'i': 22279, 'a': 22411, 'n': 25312, 'o': 25942, 't': 27749, 'e': 39769, ' ': 69584}\n",
      "8932\n"
     ]
    }
   ],
   "source": [
    "# All the unique characters that occur in SCC\n",
    "chars = sorted(list(set(text_clean)))\n",
    "vocab_size = len(chars)\n",
    "print(''.join(chars))\n",
    "print(vocab_size)\n",
    "print(chars)\n",
    "\n",
    "# check frequency of each character\n",
    "from collections import Counter\n",
    "\n",
    "freq = Counter(text_clean)\n",
    "print(dict(sorted(freq.items(), key = lambda item: item[1])))\n",
    "print(freq['\\n'])"
   ]
  },
  {
   "cell_type": "markdown",
   "metadata": {},
   "source": [
    "## Saving Training and Test Data"
   ]
  },
  {
   "cell_type": "code",
   "execution_count": null,
   "metadata": {},
   "outputs": [
    {
     "name": "stdout",
     "output_type": "stream",
     "text": [
      "42937\n",
      "386430\n"
     ]
    }
   ],
   "source": [
    "n = int(0.9*len(text_clean)) # 90% train and test split\n",
    "\n",
    "text_tr = text_clean[:n]\n",
    "text_te = text_clean[n:]\n"
   ]
  },
  {
   "cell_type": "code",
   "execution_count": 11,
   "metadata": {},
   "outputs": [
    {
     "data": {
      "text/plain": [
       "42937"
      ]
     },
     "execution_count": 11,
     "metadata": {},
     "output_type": "execute_result"
    }
   ],
   "source": [
    "open('../../data/raw/scc-eng-train.txt', 'w').write(text_tr)\n",
    "open('../../data/raw/scc-eng-test.txt', 'w').write(text_te)"
   ]
  },
  {
   "cell_type": "code",
   "execution_count": 23,
   "metadata": {},
   "outputs": [],
   "source": [
    "\n",
    "# here are all the unique characters that occur in this text\n",
    "chars = sorted(list(set(text_clean)))\n",
    "vocab_size = len(chars)\n",
    "# create a mapping from characters to integers\n",
    "stoi = { ch:i for i,ch in enumerate(chars) }\n",
    "itos = { i:ch for i,ch in enumerate(chars) }\n",
    "encode = lambda s: [stoi[c] for c in s] # encoder: take a string, output a list of integers\n",
    "decode = lambda l: ''.join([itos[i] for i in l]) # decoder: take a list of integers, output a string"
   ]
  },
  {
   "cell_type": "markdown",
   "metadata": {},
   "source": [
    "# Try New Tokenizer"
   ]
  },
  {
   "cell_type": "code",
   "execution_count": 52,
   "metadata": {},
   "outputs": [
    {
     "name": "stdout",
     "output_type": "stream",
     "text": [
      "Token IDs: [1103, 88, 12, 970, 423, 699, 2954]\n",
      "Tokens: ['▁This', '▁is', '▁the', '▁Swiss', '▁Criminal', '▁Code', '.']\n"
     ]
    }
   ],
   "source": [
    "import sentencepiece as spm\n",
    "\n",
    "\n",
    "sp = spm.SentencePieceProcessor()\n",
    "sp.load('../../tokenizer.model')\n",
    "\n",
    "vocab_size = 3000\n",
    "\n",
    "text = \"This is the Swiss Criminal Code.\"\n",
    "\n",
    "# Tokenize text into IDs\n",
    "token_ids = sp.encode(text, out_type=int)\n",
    "print(\"Token IDs:\", token_ids)\n",
    "\n",
    "# Tokenize text into pieces\n",
    "tokens = sp.encode(text, out_type=str)\n",
    "print(\"Tokens:\", tokens)\n"
   ]
  },
  {
   "cell_type": "code",
   "execution_count": 53,
   "metadata": {},
   "outputs": [],
   "source": [
    "import torch\n",
    "\n",
    "# hyperparameters\n",
    "batch_size = 32 # how many independent sequences will we process in parallel?\n",
    "block_size = 8 # what is the maximum context length for predictions?\n",
    "device = 'cuda' if torch.cuda.is_available() else 'cpu'\n",
    "\n",
    "\n",
    "data = torch.tensor(sp.encode(text_clean, out_type=int), dtype=torch.long)\n",
    "n = int(0.9*len(data)) # first 90% will be train, rest val\n",
    "train_data = data[:n]\n",
    "val_data = data[n:]\n",
    "\n",
    "# data loading\n",
    "def get_batch(split):\n",
    "    # generate a small batch of data of inputs x and targets y\n",
    "    data = train_data if split == 'train' else val_data\n",
    "    ix = torch.randint(len(data) - block_size, (batch_size,))\n",
    "    x = torch.stack([data[i:i+block_size] for i in ix])\n",
    "    y = torch.stack([data[i+1:i+block_size+1] for i in ix])\n",
    "    x, y = x.to(device), y.to(device)\n",
    "    return x, y"
   ]
  },
  {
   "cell_type": "code",
   "execution_count": 54,
   "metadata": {},
   "outputs": [
    {
     "name": "stdout",
     "output_type": "stream",
     "text": [
      "tensor([ 777, 2955, 2954, 2959, 1005, 2956, 2946,  980,   88,  112,   38,  413,\n",
      "         247,  309, 2949,  383,   11,   12,  970, 1116, 2954, 1103,  773, 1303,\n",
      "          88,  744,   57,  703, 1461,  526,   60,  235,  502,  795,  127, 2954,\n",
      "         970,  423,  699,   11,  768, 1866, 1362, 2973,   66, 2966, 2937,   42,\n",
      "          49,  151,   11,   20,  287,  635, 2976,  172,  488, 2715,   12,  970,\n",
      "        1116, 2961, 2158,   63,  281, 1594,  954,   20,   60,   69,   11,   12,\n",
      "         488, 1725, 1640,   60,  519,  838, 2538,    5,  488, 1243, 1328, 2951,\n",
      "          42,   72,   44,  490,  456,  287, 2259, 2971, 1640,  770,   19,   33,\n",
      "        2991, 1832, 2421, 2991])\n"
     ]
    }
   ],
   "source": [
    "print(train_data[:100])"
   ]
  },
  {
   "cell_type": "code",
   "execution_count": 55,
   "metadata": {},
   "outputs": [
    {
     "name": "stdout",
     "output_type": "stream",
     "text": [
      "(tensor([[ 154,  752,    5, 2341,  150, 1051, 2974, 1107],\n",
      "        [  38,  193,  383, 2974, 2944,   24,  494,   46],\n",
      "        [ 942, 2805,   22,   36,  530,   57,  223, 1331],\n",
      "        [ 261,   64,  265,   33,  189,   81,  128, 1435],\n",
      "        [ 166,   26,   36,    5,  191,  147, 2954,  389],\n",
      "        [2567,  617,  244, 2980,  152,   59, 2954, 2567],\n",
      "        [  60,   28,  591, 2704,  962,  618,  356,   12],\n",
      "        [  36,  264,   36,   12,  480, 1348,   11,  154],\n",
      "        [ 129,  387,   15,  217,   11,   12, 1116,   26],\n",
      "        [2974, 2935,  892, 2954, 1832, 2597, 2991,   80],\n",
      "        [ 275,  860,   12,   18,  106, 2980,   60,   40],\n",
      "        [ 353,  406,   63, 2693,  139,  115, 2428,   26],\n",
      "        [ 181, 2659, 2872, 2954,   69,  198,   12, 1952],\n",
      "        [  62, 2161,  490,  154,  224,   88,   12, 2682],\n",
      "        [  26, 1496,   11,  318,   36, 1308,   17,    5],\n",
      "        [  59, 2954,  340, 2964,  320, 2946,    0,  268],\n",
      "        [ 154,  535, 2954,  162,   93, 2575,   11,   12],\n",
      "        [1440, 2135,    5, 1795,   26,  588,  769,  710],\n",
      "        [1225,  922,  110, 2943, 1812,   59, 2954,  574],\n",
      "        [1891, 2093, 1572,  122,   62,  174,   36,    5],\n",
      "        [  12,  273, 2949,  102,  820,   11,    5,   61],\n",
      "        [ 614,   63,  970, 1975,  674, 2923,  323, 2961],\n",
      "        [  88, 1862, 1948,  879,  221,   12,  996, 1460],\n",
      "        [  21,  232, 2905,   99,   28,  171, 2974,   21],\n",
      "        [ 272,  209,  217,  507,  800,   60, 1312,  615],\n",
      "        [  26,   11, 1792, 1061,   28,  516,  117,  281],\n",
      "        [ 426, 2954,  172, 2358, 2943,   28,  954,   16],\n",
      "        [1173,  405,    5, 1459, 1545,  363,  224,  235],\n",
      "        [1819,   45,  884, 2977,   54, 2954,  385,   21],\n",
      "        [ 189,   81,  128, 2068,  439, 2252, 1110,   36],\n",
      "        [  11, 2073,  616,   36,  288,  157, 1490, 1985],\n",
      "        [2943, 2357,  489,   11,   96, 1866,  743, 1640]]), tensor([[ 752,    5, 2341,  150, 1051, 2974, 1107,   11],\n",
      "        [ 193,  383, 2974, 2944,   24,  494,   46, 2484],\n",
      "        [2805,   22,   36,  530,   57,  223, 1331,   26],\n",
      "        [  64,  265,   33,  189,   81,  128, 1435,    5],\n",
      "        [  26,   36,    5,  191,  147, 2954,  389,  198],\n",
      "        [ 617,  244, 2980,  152,   59, 2954, 2567, 2940],\n",
      "        [  28,  591, 2704,  962,  618,  356,   12,    5],\n",
      "        [ 264,   36,   12,  480, 1348,   11,  154,   81],\n",
      "        [ 387,   15,  217,   11,   12, 1116,   26,   12],\n",
      "        [2935,  892, 2954, 1832, 2597, 2991,   80,  428],\n",
      "        [ 860,   12,   18,  106, 2980,   60,   40, 1199],\n",
      "        [ 406,   63, 2693,  139,  115, 2428,   26,  261],\n",
      "        [2659, 2872, 2954,   69,  198,   12, 1952,   88],\n",
      "        [2161,  490,  154,  224,   88,   12, 2682,  917],\n",
      "        [1496,   11,  318,   36, 1308,   17,    5,  783],\n",
      "        [2954,  340, 2964,  320, 2946,    0,  268,  238],\n",
      "        [ 535, 2954,  162,   93, 2575,   11,   12, 1228],\n",
      "        [2135,    5, 1795,   26,  588,  769,  710,  102],\n",
      "        [ 922,  110, 2943, 1812,   59, 2954,  574, 2964],\n",
      "        [2093, 1572,  122,   62,  174,   36,    5,  150],\n",
      "        [ 273, 2949,  102,  820,   11,    5,   61, 2951],\n",
      "        [  63,  970, 1975,  674, 2923,  323, 2961,  860],\n",
      "        [1862, 1948,  879,  221,   12,  996, 1460,   11],\n",
      "        [ 232, 2905,   99,   28,  171, 2974,   21,  284],\n",
      "        [ 209,  217,  507,  800,   60, 1312,  615,  775],\n",
      "        [  11, 1792, 1061,   28,  516,  117,  281,  778],\n",
      "        [2954,  172, 2358, 2943,   28,  954,   16,   60],\n",
      "        [ 405,    5, 1459, 1545,  363,  224,  235,  502],\n",
      "        [  45,  884, 2977,   54, 2954,  385,   21,  529],\n",
      "        [  81,  128, 2068,  439, 2252, 1110,   36,  291],\n",
      "        [2073,  616,   36,  288,  157, 1490, 1985, 2954],\n",
      "        [2357,  489,   11,   96, 1866,  743, 1640,  151]]))\n"
     ]
    }
   ],
   "source": [
    "print(get_batch('train'))"
   ]
  },
  {
   "cell_type": "code",
   "execution_count": 56,
   "metadata": {},
   "outputs": [],
   "source": [
    "\n",
    "@torch.no_grad()\n",
    "def estimate_loss():\n",
    "    out = {}\n",
    "    model.eval()\n",
    "    for split in ['train', 'val']:\n",
    "        losses = torch.zeros(eval_iters)\n",
    "        for k in range(eval_iters):\n",
    "            X, Y = get_batch(split)\n",
    "            logits, loss = model(X, Y)\n",
    "            losses[k] = loss.item()\n",
    "        out[split] = losses.mean()\n",
    "    model.train()\n",
    "    return out"
   ]
  },
  {
   "cell_type": "code",
   "execution_count": 57,
   "metadata": {},
   "outputs": [],
   "source": [
    "import torch.nn as nn\n",
    "from torch.nn import functional as F\n",
    "\n",
    "learning_rate = 1e-2\n",
    "\n",
    "\n",
    "# super simple bigram model\n",
    "class BigramLanguageModel(nn.Module):\n",
    "\n",
    "    def __init__(self, vocab_size):\n",
    "        super().__init__()\n",
    "        # each token directly reads off the logits for the next token from a lookup table\n",
    "        self.token_embedding_table = nn.Embedding(vocab_size, vocab_size)\n",
    "\n",
    "    def forward(self, idx, targets=None):\n",
    "\n",
    "        # idx and targets are both (B,T) tensor of integers\n",
    "        logits = self.token_embedding_table(idx) # (B,T,C)\n",
    "\n",
    "        if targets is None:\n",
    "            loss = None\n",
    "        else:\n",
    "            B, T, C = logits.shape\n",
    "            logits = logits.view(B*T, C)\n",
    "            targets = targets.view(B*T)\n",
    "            loss = F.cross_entropy(logits, targets)\n",
    "\n",
    "        return logits, loss\n",
    "\n",
    "    def generate(self, idx, max_new_tokens):\n",
    "        # idx is (B, T) array of indices in the current context\n",
    "        for _ in range(max_new_tokens):\n",
    "            # get the predictions\n",
    "            logits, loss = self(idx)\n",
    "            # focus only on the last time step\n",
    "            logits = logits[:, -1, :] # becomes (B, C)\n",
    "            # apply softmax to get probabilities\n",
    "            probs = F.softmax(logits, dim=-1) # (B, C)\n",
    "            # sample from the distribution\n",
    "            idx_next = torch.multinomial(probs, num_samples=1) # (B, 1)\n",
    "            # append sampled index to the running sequence\n",
    "            idx = torch.cat((idx, idx_next), dim=1) # (B, T+1)\n",
    "        return idx\n",
    "\n",
    "model = BigramLanguageModel(vocab_size)\n",
    "m = model.to(device)\n",
    "\n",
    "# create a PyTorch optimizer\n",
    "optimizer = torch.optim.AdamW(model.parameters(), lr=learning_rate)"
   ]
  },
  {
   "cell_type": "code",
   "execution_count": null,
   "metadata": {},
   "outputs": [
    {
     "name": "stdout",
     "output_type": "stream",
     "text": [
      "step 0: train loss 8.5590, val loss 8.6161\n",
      "step 1000: train loss 4.6165, val loss 4.6973\n",
      "step 2000: train loss 3.5987, val loss 4.1133\n",
      "step 3000: train loss 3.1941, val loss 3.9161\n",
      "step 4000: train loss 3.0153, val loss 3.8857\n",
      "step 5000: train loss 2.9164, val loss 3.9077\n",
      "step 6000: train loss 2.8768, val loss 3.8809\n",
      "step 7000: train loss 2.8550, val loss 3.9278\n"
     ]
    }
   ],
   "source": [
    "max_iters = 10000\n",
    "eval_interval = 1000\n",
    "eval_iters = 200\n",
    "\n",
    "\n",
    "for iter in range(max_iters):\n",
    "\n",
    "    # every once in a while evaluate the loss on train and val sets\n",
    "    if iter % eval_interval == 0:\n",
    "        losses = estimate_loss()\n",
    "        print(f\"step {iter}: train loss {losses['train']:.4f}, val loss {losses['val']:.4f}\")\n",
    "\n",
    "    # sample a batch of data\n",
    "    xb, yb = get_batch('train')\n",
    "\n",
    "    # evaluate the loss\n",
    "    logits, loss = model(xb, yb)\n",
    "    optimizer.zero_grad(set_to_none=True)\n",
    "    loss.backward()\n",
    "    optimizer.step()\n",
    "\n"
   ]
  },
  {
   "cell_type": "code",
   "execution_count": 48,
   "metadata": {},
   "outputs": [],
   "source": [
    "# generate from the model\n",
    "context = torch.zeros((1, 1), dtype=torch.long, device=device)\n",
    "i_out = m.generate(context, max_new_tokens=500)[0].tolist()\n"
   ]
  },
  {
   "cell_type": "code",
   "execution_count": 51,
   "metadata": {},
   "outputs": [
    {
     "name": "stdout",
     "output_type": "stream",
     "text": [
      " ⁇ guls. 1865 49 being of 172 para. 2 If the offender has provide and 592 62ocivity Art. 19990. 2018 3 If the execut theirk of theirdigung Art. Auaragraph 1 Jan. 2 The terminis ty, law when or to objurately leg incommuntanchequarter a. 2019 SR 811). Inserted by force on by priesvernerung Art. The court haput the offence; how infed to other zurisdence 1 The period reviol). Semale; d. 1999ter of Policherecencesutive authority. Gentivilichenger other statment of Sanour abroad b), in order under the Selvortement. Convidit mone haponsiblection of the sentence not exceeding three years ord of the offender shall be unlawful in force since 1 Aten Art. Gen Extger in accord Art. ivestileas committed; banour a. 2 upoldile applicy or mently penalty of 9 47ditationalf to a dially or fal himum of the measure that the in or rel Public debation of En criminal or sectspularriation which are intention pural handell Art. 2609). Inserted by the FA of a fails disorismen years for another for execution of his posestimed by the offender disre- muted Sent authority durpons authority exer, or ople to the showing shall be as a. 1, in force and the c.. 22 2 If the offender c. 2018 2827; case and others tim to the offence that custodial sentence of the judgehung destroption 13113bis para. Twnjected recledomely actiftered. 2. a custodial sentence not brzung Art. 2 Infereich\n"
     ]
    }
   ],
   "source": [
    "print(sp.decode(i_out, out_type=str))"
   ]
  }
 ],
 "metadata": {
  "kernelspec": {
   "display_name": "Python 3",
   "language": "python",
   "name": "python3"
  },
  "language_info": {
   "codemirror_mode": {
    "name": "ipython",
    "version": 3
   },
   "file_extension": ".py",
   "mimetype": "text/x-python",
   "name": "python",
   "nbconvert_exporter": "python",
   "pygments_lexer": "ipython3",
   "version": "3.12.2"
  }
 },
 "nbformat": 4,
 "nbformat_minor": 2
}
