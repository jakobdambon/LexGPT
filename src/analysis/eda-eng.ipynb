{
 "cells": [
  {
   "cell_type": "code",
   "execution_count": 1,
   "metadata": {},
   "outputs": [
    {
     "name": "stdout",
     "output_type": "stream",
     "text": [
      "['c:\\\\Program Files\\\\Python3.12.2\\\\python312.zip', 'c:\\\\Program Files\\\\Python3.12.2\\\\DLLs', 'c:\\\\Program Files\\\\Python3.12.2\\\\Lib', 'c:\\\\Program Files\\\\Python3.12.2', '', 'c:\\\\Program Files\\\\Python3.12.2\\\\Lib\\\\site-packages', 'c:\\\\Program Files\\\\Python3.12.2\\\\Lib\\\\site-packages\\\\win32', 'c:\\\\Program Files\\\\Python3.12.2\\\\Lib\\\\site-packages\\\\win32\\\\lib', 'c:\\\\Program Files\\\\Python3.12.2\\\\Lib\\\\site-packages\\\\Pythonwin', 'C:\\\\Users\\\\s0ntc5\\\\OneDrive - Swiss Reinsurance Company Ltd\\\\Documents\\\\GIT\\\\LexGPT\\\\src']\n"
     ]
    }
   ],
   "source": [
    "import sys\n",
    "from pathlib import Path\n",
    "\n",
    "# Add the `src` directory to sys.path\n",
    "sys.path.append(str(Path().resolve().parent))\n",
    "print(sys.path)"
   ]
  },
  {
   "cell_type": "markdown",
   "metadata": {},
   "source": [
    "# Analysis of Englisch Swiss Criminal Code\n",
    "\n",
    "## Read in Data"
   ]
  },
  {
   "cell_type": "code",
   "execution_count": 2,
   "metadata": {},
   "outputs": [
    {
     "name": "stdout",
     "output_type": "stream",
     "text": [
      "\n",
      "311.0\n",
      "\n",
      "\n",
      "\n",
      "\n",
      "English is not an official language of the Swiss Confederation. This translation is \n",
      "provided for information purposes only and has no legal force.\n",
      "\n",
      "\n",
      "\n",
      "Swiss Criminal Code \n",
      "\n",
      "of 21 December 1937 (Status as of 1 July 2024)\n",
      "\n",
      "The Federal Assembly the Swiss Confederation,\n",
      "based on Article 123 paragraphs 1 and 3 of the Federal Constitution ,  \n",
      "and having considered a Federal Council Dispatch dated 23 July 1918 ,\n",
      "decrees:\n",
      "Book One:  General Provisions\n",
      "Part One: Felonies and Misdemeanours\n",
      "Tit\n",
      "length of dataset in characters:  429369\n"
     ]
    }
   ],
   "source": [
    "# read english version of swiss criminal code\n",
    "with open('../../data/raw/scc-eng-raw.txt', 'r', encoding='utf-8') as f:\n",
    "    text = f.read()\n",
    "\n",
    "print(text[:500])\n",
    "print(\"length of dataset in characters: \", len(text))\n"
   ]
  },
  {
   "cell_type": "markdown",
   "metadata": {},
   "source": [
    "## Vocabulary"
   ]
  },
  {
   "cell_type": "code",
   "execution_count": 3,
   "metadata": {},
   "outputs": [
    {
     "name": "stdout",
     "output_type": "stream",
     "text": [
      "\t\n",
      " \"'(),-./0123456789:;ABCDEFGHIJKLMNOPQRSTUVWZ[]abcdefghijklmnopqrstuvwxyzÄÖÜäöü  ﻿\n",
      "85\n",
      "['\\t', '\\n', ' ', '\"', \"'\", '(', ')', ',', '-', '.', '/', '0', '1', '2', '3', '4', '5', '6', '7', '8', '9', ':', ';', 'A', 'B', 'C', 'D', 'E', 'F', 'G', 'H', 'I', 'J', 'K', 'L', 'M', 'N', 'O', 'P', 'Q', 'R', 'S', 'T', 'U', 'V', 'W', 'Z', '[', ']', 'a', 'b', 'c', 'd', 'e', 'f', 'g', 'h', 'i', 'j', 'k', 'l', 'm', 'n', 'o', 'p', 'q', 'r', 's', 't', 'u', 'v', 'w', 'x', 'y', 'z', 'Ä', 'Ö', 'Ü', 'ä', 'ö', 'ü', '\\u2002', '\\u2003', '\\uf02d', '\\ufeff']\n"
     ]
    }
   ],
   "source": [
    "# All the unique characters that occur in SCC\n",
    "chars = sorted(list(set(text)))\n",
    "vocab_size = len(chars)\n",
    "print(''.join(chars))\n",
    "print(vocab_size)\n",
    "print(chars)"
   ]
  },
  {
   "cell_type": "code",
   "execution_count": 4,
   "metadata": {},
   "outputs": [
    {
     "name": "stdout",
     "output_type": "stream",
     "text": [
      "{'\\ufeff': 1, '\\uf02d': 1, 'Q': 1, 'Ö': 1, '\\u2002': 2, '[': 2, ']': 2, 'Ä': 9, '\"': 12, '\\u2003': 15, '/': 17, 'Ü': 18, 'Z': 36, 'K': 41, \"'\": 54, 'ö': 60, 'ü': 65, 'W': 67, 'U': 106, 'G': 153, 'H': 156, 'ä': 158, 'L': 195, 'V': 230, 'M': 237, 'E': 239, ':': 239, 'q': 270, 'j': 280, 'z': 286, 'O': 313, 'R': 341, 'D': 421, 'P': 495, 'C': 565, 'J': 586, 'N': 613, 'k': 621, 'T': 624, 'F': 759, ';': 846, '(': 916, ')': 916, '-': 936, '7': 1157, '4': 1164, '8': 1197, '6': 1213, 'x': 1224, 'B': 1246, '5': 1297, 'S': 1354, 'I': 1426, '\\t': 1466, '3': 1777, '9': 1826, 'v': 2263, ',': 2491, 'w': 2550, '0': 3127, 'A': 3659, 'b': 4258, 'g': 4527, '1': 4679, '.': 4855, '2': 4868, 'y': 5175, 'p': 6942, 'm': 7082, 'u': 7675, '\\n': 8932, 'd': 9774, 'f': 10011, 'l': 11352, 'h': 11612, 'c': 12401, 's': 18088, 'r': 21767, 'i': 22279, 'a': 22411, 'n': 25312, 'o': 25942, 't': 27749, 'e': 39769, ' ': 69567}\n"
     ]
    }
   ],
   "source": [
    "# check frequency of each character\n",
    "from collections import Counter\n",
    "\n",
    "freq = Counter(text)\n",
    "print(dict(sorted(freq.items(), key = lambda item: item[1])))"
   ]
  },
  {
   "cell_type": "markdown",
   "metadata": {},
   "source": [
    "## Remove Special Characters"
   ]
  },
  {
   "cell_type": "code",
   "execution_count": 5,
   "metadata": {},
   "outputs": [
    {
     "name": "stdout",
     "output_type": "stream",
     "text": [
      "429369\n",
      "429367\n"
     ]
    }
   ],
   "source": [
    "from utils.proc_char import remove_unicode\n",
    "\n",
    "text_clean = remove_unicode(text)\n",
    "\n",
    "print(len(text))\n",
    "print(len(text_clean))"
   ]
  },
  {
   "cell_type": "markdown",
   "metadata": {},
   "source": [
    "## Check Vocabulary again"
   ]
  },
  {
   "cell_type": "code",
   "execution_count": 7,
   "metadata": {},
   "outputs": [
    {
     "name": "stdout",
     "output_type": "stream",
     "text": [
      "\t\n",
      " \"'(),-./0123456789:;ABCDEFGHIJKLMNOPQRSTUVWZ[]abcdefghijklmnopqrstuvwxyzÄÖÜäöü\n",
      "81\n",
      "['\\t', '\\n', ' ', '\"', \"'\", '(', ')', ',', '-', '.', '/', '0', '1', '2', '3', '4', '5', '6', '7', '8', '9', ':', ';', 'A', 'B', 'C', 'D', 'E', 'F', 'G', 'H', 'I', 'J', 'K', 'L', 'M', 'N', 'O', 'P', 'Q', 'R', 'S', 'T', 'U', 'V', 'W', 'Z', '[', ']', 'a', 'b', 'c', 'd', 'e', 'f', 'g', 'h', 'i', 'j', 'k', 'l', 'm', 'n', 'o', 'p', 'q', 'r', 's', 't', 'u', 'v', 'w', 'x', 'y', 'z', 'Ä', 'Ö', 'Ü', 'ä', 'ö', 'ü']\n",
      "{'Q': 1, 'Ö': 1, '[': 2, ']': 2, 'Ä': 9, '\"': 12, '/': 17, 'Ü': 18, 'Z': 36, 'K': 41, \"'\": 54, 'ö': 60, 'ü': 65, 'W': 67, 'U': 106, 'G': 153, 'H': 156, 'ä': 158, 'L': 195, 'V': 230, 'M': 237, 'E': 239, ':': 239, 'q': 270, 'j': 280, 'z': 286, 'O': 313, 'R': 341, 'D': 421, 'P': 495, 'C': 565, 'J': 586, 'N': 613, 'k': 621, 'T': 624, 'F': 759, ';': 846, '(': 916, ')': 916, '-': 936, '7': 1157, '4': 1164, '8': 1197, '6': 1213, 'x': 1224, 'B': 1246, '5': 1297, 'S': 1354, 'I': 1426, '\\t': 1466, '3': 1777, '9': 1826, 'v': 2263, ',': 2491, 'w': 2550, '0': 3127, 'A': 3659, 'b': 4258, 'g': 4527, '1': 4679, '.': 4855, '2': 4868, 'y': 5175, 'p': 6942, 'm': 7082, 'u': 7675, '\\n': 8932, 'd': 9774, 'f': 10011, 'l': 11352, 'h': 11612, 'c': 12401, 's': 18088, 'r': 21767, 'i': 22279, 'a': 22411, 'n': 25312, 'o': 25942, 't': 27749, 'e': 39769, ' ': 69584}\n",
      "8932\n"
     ]
    }
   ],
   "source": [
    "# All the unique characters that occur in SCC\n",
    "chars = sorted(list(set(text_clean)))\n",
    "vocab_size = len(chars)\n",
    "print(''.join(chars))\n",
    "print(vocab_size)\n",
    "print(chars)\n",
    "\n",
    "# check frequency of each character\n",
    "from collections import Counter\n",
    "\n",
    "freq = Counter(text_clean)\n",
    "print(dict(sorted(freq.items(), key = lambda item: item[1])))\n",
    "print(freq['\\n'])"
   ]
  }
 ],
 "metadata": {
  "kernelspec": {
   "display_name": "Python 3",
   "language": "python",
   "name": "python3"
  },
  "language_info": {
   "codemirror_mode": {
    "name": "ipython",
    "version": 3
   },
   "file_extension": ".py",
   "mimetype": "text/x-python",
   "name": "python",
   "nbconvert_exporter": "python",
   "pygments_lexer": "ipython3",
   "version": "3.12.2"
  }
 },
 "nbformat": 4,
 "nbformat_minor": 2
}
